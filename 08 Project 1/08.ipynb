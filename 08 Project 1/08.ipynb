{
 "cells": [
  {
   "cell_type": "code",
   "execution_count": 19,
   "metadata": {},
   "outputs": [],
   "source": [
    "import win32com.client\n",
    "import pythoncom\n",
    "\n",
    "import time"
   ]
  },
  {
   "cell_type": "code",
   "execution_count": 14,
   "metadata": {},
   "outputs": [],
   "source": [
    "swApp = win32com.client.Dispatch(\"SLDWORKS.Application\")\n",
    "Part = swApp.ActiveDoc"
   ]
  },
  {
   "cell_type": "code",
   "execution_count": 15,
   "metadata": {},
   "outputs": [],
   "source": [
    "names = [\"W610-155\", \"W610-140\", \"W610-125\", \"W610-113\", \"W610-101\", \"W610-92\", \"W610-82\", \"W460-97\", \"W460-89\", \"W460-82\", \"W460-74\", \"W460-68\"]\n",
    "\n",
    "d = [611, 617, 612, 608, 603, 603, 599, 466, 463, 460, 457, 459]\n",
    "\n",
    "t_w = [12.7, 13.1, 11.9, 11.2, 10.5, 10.9, 10, 11.4, 10.5, 9.91, 9.02, 9.14]\n",
    "\n",
    "b_f = [324, 230, 229, 228, 228, 179, 178, 193, 192, 191, 190, 154]\n",
    "\n",
    "t_f = [19, 22.2, 19.6, 17.3, 14.9, 15, 12.8, 19, 17.7, 16, 14.5, 15.4]"
   ]
  },
  {
   "cell_type": "code",
   "execution_count": 16,
   "metadata": {},
   "outputs": [],
   "source": [
    "d_Dim = Part.Parameter(\"d@Sketch1\") \n",
    "\n",
    "t_w_Dim = Part.Parameter(\"t_w@Sketch1\")\n",
    "\n",
    "b_f_Dim = Part.Parameter(\"b_f@Sketch1\")\n",
    "\n",
    "t_f_Dim = Part.Parameter(\"t_f@Sketch1\")"
   ]
  },
  {
   "cell_type": "code",
   "execution_count": 38,
   "metadata": {},
   "outputs": [],
   "source": [
    "for i in range(0, len(names)):\n",
    "\n",
    "    d_Dim.SystemValue = d[i]*0.001\n",
    "    t_w_Dim.SystemValue = t_w[i]*0.001\n",
    "    b_f_Dim.SystemValue = b_f[i]*0.001\n",
    "    t_f_Dim.SystemValue = t_f[i]*0.001\n",
    "\n",
    "    path = r\"E:\\Youtube\\SOLIDWORKS scripting with python\\Files\\08\" + \"\\\\\" + names[i] + \".SLDPRT\"\n",
    "\n",
    "    longstatus = Part.SaveAs3(path, 0, 0)"
   ]
  }
 ],
 "metadata": {
  "kernelspec": {
   "display_name": "Python 3",
   "language": "python",
   "name": "python3"
  },
  "language_info": {
   "codemirror_mode": {
    "name": "ipython",
    "version": 3
   },
   "file_extension": ".py",
   "mimetype": "text/x-python",
   "name": "python",
   "nbconvert_exporter": "python",
   "pygments_lexer": "ipython3",
   "version": "3.8.9"
  }
 },
 "nbformat": 4,
 "nbformat_minor": 2
}
