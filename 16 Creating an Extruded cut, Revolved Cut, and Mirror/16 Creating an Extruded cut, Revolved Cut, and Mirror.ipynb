{
 "cells": [
  {
   "cell_type": "code",
   "execution_count": 1,
   "metadata": {},
   "outputs": [],
   "source": [
    "import win32com.client\n",
    "import pythoncom\n",
    "\n",
    "import math"
   ]
  },
  {
   "cell_type": "code",
   "execution_count": 2,
   "metadata": {},
   "outputs": [],
   "source": [
    "swApp = win32com.client.Dispatch(\"SLDWORKS.Application\")\n",
    "Part = swApp.ActiveDoc"
   ]
  },
  {
   "cell_type": "code",
   "execution_count": 3,
   "metadata": {},
   "outputs": [],
   "source": [
    "boolstatus = Part.Extension.SelectByID2(\"Sketch4\", \"SKETCH\", 0, 0, 0, False, 0, pythoncom.Nothing, 0)\n",
    "\n",
    "myFeature = Part.FeatureManager.FeatureCut4(True, False, False, 0, 0, 50/1000, 0.07, False, False, False, False, 1.74532925199433E-02, 1.74532925199433E-02, False, False, False, False, False, True, True, True, True, False, 0, 0, False, False)"
   ]
  },
  {
   "cell_type": "code",
   "execution_count": 4,
   "metadata": {},
   "outputs": [],
   "source": [
    "boolstatus = Part.Extension.SelectByID2(\"Sketch4\", \"SKETCH\", 0, 0, 0, False, 0, pythoncom.Nothing, 0)\n",
    "boolstatus = Part.Extension.SelectByID2(\"Axis1\", \"AXIS\", 7.49034600890716E-02, 0.07, 3.70340527577938E-02, True, 16,  pythoncom.Nothing, 0)\n",
    "\n",
    "myFeature = Part.FeatureManager.FeatureRevolve2(True, True, False, True, False, False, 0, 0, 2*math.pi, 0, False, False, 0.01, 0.01, 0, 0, 0, True, True, True)\n"
   ]
  },
  {
   "cell_type": "code",
   "execution_count": 7,
   "metadata": {},
   "outputs": [],
   "source": [
    "boolstatus = Part.Extension.SelectByID2(\"Cut-Revolve2\", \"BODYFEATURE\", 0, 0, 0, False, 1, pythoncom.Nothing, 0)\n",
    "boolstatus = Part.Extension.SelectByID2(\"Boss-Extrude1\", \"BODYFEATURE\", 0, 0, 0, True, 1, pythoncom.Nothing, 0)\n",
    "boolstatus = Part.Extension.SelectByID2(\"Top Plane\", \"PLANE\", 0, 0, 0, True, 2, pythoncom.Nothing, 0)\n",
    "\n",
    "myFeature = Part.FeatureManager.InsertMirrorFeature(False, False, False, False)"
   ]
  }
 ],
 "metadata": {
  "kernelspec": {
   "display_name": "Python 3",
   "language": "python",
   "name": "python3"
  },
  "language_info": {
   "codemirror_mode": {
    "name": "ipython",
    "version": 3
   },
   "file_extension": ".py",
   "mimetype": "text/x-python",
   "name": "python",
   "nbconvert_exporter": "python",
   "pygments_lexer": "ipython3",
   "version": "3.8.9"
  }
 },
 "nbformat": 4,
 "nbformat_minor": 2
}
