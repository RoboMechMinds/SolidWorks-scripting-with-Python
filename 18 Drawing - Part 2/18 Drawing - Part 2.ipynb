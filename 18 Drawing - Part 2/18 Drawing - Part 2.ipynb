{
 "cells": [
  {
   "cell_type": "code",
   "execution_count": 1,
   "metadata": {},
   "outputs": [],
   "source": [
    "import win32com.client\n",
    "import pythoncom"
   ]
  },
  {
   "cell_type": "code",
   "execution_count": 2,
   "metadata": {},
   "outputs": [],
   "source": [
    "swApp = win32com.client.Dispatch(\"SLDWORKS.Application\")\n",
    "Part = swApp.ActiveDoc"
   ]
  },
  {
   "cell_type": "code",
   "execution_count": 3,
   "metadata": {},
   "outputs": [],
   "source": [
    "Part = swApp.NewDocument(r\"C:\\ProgramData\\SolidWorks\\SOLIDWORKS 2021\\templates\\Drawing.drwdot\", 0, 0, 0)\n",
    "\n",
    "swDrawing = Part\n",
    "swSheet = swDrawing.GetCurrentSheet\n",
    "\n",
    "swSheet.SetProperties2(0, 0, 1, 1, False, 0, 0, True)\n",
    "swSheet.SetTemplateName(r\"C:\\ProgramData\\SolidWorks\\SOLIDWORKS 2021\\lang\\english\\sheetformat\\a4 - landscape.slddrt\")\n",
    "swSheet.ReloadTemplate(True)\n",
    "\n",
    "boolstatus = Part.GenerateViewPaletteViews(r\"C:\\Users\\moham\\OneDrive\\Desktop\\Part1.SLDPRT\")"
   ]
  },
  {
   "cell_type": "code",
   "execution_count": 18,
   "metadata": {},
   "outputs": [],
   "source": [
    "myView = swDrawing.CreateDrawViewFromModelView3(r\"C:\\Users\\moham\\OneDrive\\Desktop\\Part1.SLDPRT\", \"*Front\", 70/1000, 160/1000, 0)\n",
    "\n",
    "myView = swDrawing.CreateDrawViewFromModelView3(r\"C:\\Users\\moham\\OneDrive\\Desktop\\Part1.SLDPRT\", \"*Left\", 200/1000, 160/1000, 0)\n",
    "\n",
    "myView = swDrawing.CreateDrawViewFromModelView3(r\"C:\\Users\\moham\\OneDrive\\Desktop\\Part1.SLDPRT\", \"*Top\", 70/1000, 100/1000, 0)"
   ]
  },
  {
   "cell_type": "code",
   "execution_count": 5,
   "metadata": {},
   "outputs": [],
   "source": [
    "boolstatus = Part.Extension.SelectByID2(\"Drawing View11\", \"DRAWINGVIEW\", 0, 0, 0, False, 0, pythoncom.Nothing, 0)"
   ]
  },
  {
   "cell_type": "code",
   "execution_count": null,
   "metadata": {},
   "outputs": [],
   "source": [
    "boolstatus = Part.ActivateView(\"Drawing View11\")\n",
    "\n",
    "swView = swDrawing.ActiveDrawingView\n"
   ]
  },
  {
   "cell_type": "code",
   "execution_count": 7,
   "metadata": {},
   "outputs": [],
   "source": [
    "boolstatus = Part.Extension.SelectByID2(\"Drawing View11\", \"DRAWINGVIEW\", 0, 0, 0, False, 0, pythoncom.Nothing, 0)\n",
    "\n",
    "Part.EditDelete()"
   ]
  },
  {
   "cell_type": "code",
   "execution_count": 10,
   "metadata": {},
   "outputs": [
    {
     "data": {
      "text/plain": [
       "'Drawing View13'"
      ]
     },
     "execution_count": 10,
     "metadata": {},
     "output_type": "execute_result"
    }
   ],
   "source": [
    "myView.Name"
   ]
  },
  {
   "cell_type": "code",
   "execution_count": 11,
   "metadata": {},
   "outputs": [
    {
     "data": {
      "text/plain": [
       "True"
      ]
     },
     "execution_count": 11,
     "metadata": {},
     "output_type": "execute_result"
    }
   ],
   "source": [
    "myView.SetName2(\"The_Top\")"
   ]
  },
  {
   "cell_type": "code",
   "execution_count": 12,
   "metadata": {},
   "outputs": [
    {
     "data": {
      "text/plain": [
       "(0.07, 0.1)"
      ]
     },
     "execution_count": 12,
     "metadata": {},
     "output_type": "execute_result"
    }
   ],
   "source": [
    "myView.Position"
   ]
  },
  {
   "cell_type": "code",
   "execution_count": 15,
   "metadata": {},
   "outputs": [
    {
     "data": {
      "text/plain": [
       "(0.055681999999999995, 0.085682, 0.08431800000000002, 0.11431800000000002)"
      ]
     },
     "execution_count": 15,
     "metadata": {},
     "output_type": "execute_result"
    }
   ],
   "source": [
    "myView.GetOutline"
   ]
  },
  {
   "cell_type": "code",
   "execution_count": 17,
   "metadata": {},
   "outputs": [
    {
     "name": "stdout",
     "output_type": "stream",
     "text": [
      "0.055681999999999995\n",
      "0.08431800000000002\n",
      "0.085682\n",
      "0.11431800000000002\n"
     ]
    }
   ],
   "source": [
    "viewOutlinePosition = myView.GetOutline\n",
    "\n",
    "#View's Left X:\n",
    "print(viewOutlinePosition[0])\n",
    "\n",
    "#View's Right X: \n",
    "print(viewOutlinePosition[2])\n",
    "  \n",
    "#View's Bottom Y:\n",
    "print(viewOutlinePosition[1])\n",
    "\n",
    "#View's Top Y:\n",
    "print(viewOutlinePosition[3])"
   ]
  },
  {
   "cell_type": "code",
   "execution_count": null,
   "metadata": {},
   "outputs": [],
   "source": [
    "swDrawing.InsertModelAnnotations3(0, 32768, True, True, False, False)"
   ]
  }
 ],
 "metadata": {
  "kernelspec": {
   "display_name": "Python 3",
   "language": "python",
   "name": "python3"
  },
  "language_info": {
   "codemirror_mode": {
    "name": "ipython",
    "version": 3
   },
   "file_extension": ".py",
   "mimetype": "text/x-python",
   "name": "python",
   "nbconvert_exporter": "python",
   "pygments_lexer": "ipython3",
   "version": "3.8.9"
  }
 },
 "nbformat": 4,
 "nbformat_minor": 2
}
