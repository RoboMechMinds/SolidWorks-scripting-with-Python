{
 "cells": [
  {
   "cell_type": "code",
   "execution_count": 3,
   "metadata": {},
   "outputs": [],
   "source": [
    "import win32com.client\n",
    "import pythoncom"
   ]
  },
  {
   "cell_type": "code",
   "execution_count": 4,
   "metadata": {},
   "outputs": [],
   "source": [
    "swApp = win32com.client.Dispatch(\"SLDWORKS.Application\")\n",
    "Part = swApp.ActiveDoc"
   ]
  },
  {
   "cell_type": "code",
   "execution_count": 9,
   "metadata": {},
   "outputs": [],
   "source": [
    "boolstatus = Part.Extension.SelectByID2(\"Front Plane\", \"PLANE\", 0, 0, 0, False, 0, pythoncom.Nothing, 0)\n",
    "\n",
    "Part.SketchManager.InsertSketch(True)\n",
    "\n",
    "Part.ClearSelection2(True)\n",
    "\n",
    "skSegment = Part.SketchManager.CreateCircle(0, 0, 0, 0.02, 0, 0)\n",
    "\n",
    "Part.ClearSelection2(True)\n",
    "\n",
    "Part.SketchManager.InsertSketch(True)\n",
    "\n",
    "Part.ClearSelection2(True)"
   ]
  }
 ],
 "metadata": {
  "kernelspec": {
   "display_name": "Python 3",
   "language": "python",
   "name": "python3"
  },
  "language_info": {
   "codemirror_mode": {
    "name": "ipython",
    "version": 3
   },
   "file_extension": ".py",
   "mimetype": "text/x-python",
   "name": "python",
   "nbconvert_exporter": "python",
   "pygments_lexer": "ipython3",
   "version": "3.8.9"
  }
 },
 "nbformat": 4,
 "nbformat_minor": 2
}
