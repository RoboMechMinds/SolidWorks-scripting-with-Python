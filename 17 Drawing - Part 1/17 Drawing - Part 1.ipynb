{
 "cells": [
  {
   "cell_type": "code",
   "execution_count": 1,
   "metadata": {},
   "outputs": [],
   "source": [
    "import win32com.client\n",
    "import pythoncom"
   ]
  },
  {
   "cell_type": "code",
   "execution_count": 2,
   "metadata": {},
   "outputs": [],
   "source": [
    "swApp = win32com.client.Dispatch(\"SLDWORKS.Application\")\n",
    "Part = swApp.ActiveDoc"
   ]
  },
  {
   "cell_type": "code",
   "execution_count": 5,
   "metadata": {},
   "outputs": [
    {
     "data": {
      "text/plain": [
       "0"
      ]
     },
     "execution_count": 5,
     "metadata": {},
     "output_type": "execute_result"
    }
   ],
   "source": [
    "Part = swApp.NewDocument(r\"C:\\ProgramData\\SolidWorks\\SOLIDWORKS 2021\\templates\\Drawing.drwdot\", 0, 0, 0)\n",
    "\n",
    "swDrawing = Part\n",
    "swSheet = swDrawing.GetCurrentSheet\n",
    "\n",
    "swSheet.SetProperties2(0, 0, 1, 1, False, 0, 0, True)\n",
    "swSheet.SetTemplateName(r\"C:\\ProgramData\\SolidWorks\\SOLIDWORKS 2021\\lang\\english\\sheetformat\\a4 - landscape.slddrt\")\n",
    "swSheet.ReloadTemplate(True)\n",
    "\n",
    "boolstatus = Part.GenerateViewPaletteViews(r\"C:\\Users\\moham\\OneDrive\\Desktop\\Part1.SLDPRT\")\n"
   ]
  },
  {
   "cell_type": "code",
   "execution_count": 7,
   "metadata": {},
   "outputs": [],
   "source": [
    "value = swDrawing.Create3rdAngleViews2(r\"C:\\Users\\moham\\OneDrive\\Desktop\\Part1.SLDPRT\")\n"
   ]
  },
  {
   "cell_type": "code",
   "execution_count": 8,
   "metadata": {},
   "outputs": [],
   "source": [
    "value = swDrawing.Create1stAngleViews2(r\"C:\\Users\\moham\\OneDrive\\Desktop\\Part1.SLDPRT\")\n"
   ]
  },
  {
   "cell_type": "code",
   "execution_count": 9,
   "metadata": {},
   "outputs": [],
   "source": [
    "myView = swDrawing.CreateDrawViewFromModelView3(r\"C:\\Users\\moham\\OneDrive\\Desktop\\Part1.SLDPRT\", \"*Isometric\", 0.2, 0.2, 0)\n"
   ]
  }
 ],
 "metadata": {
  "kernelspec": {
   "display_name": "Python 3",
   "language": "python",
   "name": "python3"
  },
  "language_info": {
   "codemirror_mode": {
    "name": "ipython",
    "version": 3
   },
   "file_extension": ".py",
   "mimetype": "text/x-python",
   "name": "python",
   "nbconvert_exporter": "python",
   "pygments_lexer": "ipython3",
   "version": "3.8.9"
  }
 },
 "nbformat": 4,
 "nbformat_minor": 2
}
