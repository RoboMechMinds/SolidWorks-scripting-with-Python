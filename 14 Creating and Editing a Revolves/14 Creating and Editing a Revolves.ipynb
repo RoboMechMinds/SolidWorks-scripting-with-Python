{
 "cells": [
  {
   "cell_type": "code",
   "execution_count": 13,
   "metadata": {},
   "outputs": [],
   "source": [
    "import win32com.client\n",
    "import pythoncom\n",
    "\n",
    "import math"
   ]
  },
  {
   "cell_type": "code",
   "execution_count": 4,
   "metadata": {},
   "outputs": [],
   "source": [
    "swApp = win32com.client.Dispatch(\"SLDWORKS.Application\")\n",
    "Part = swApp.ActiveDoc"
   ]
  },
  {
   "cell_type": "code",
   "execution_count": 12,
   "metadata": {},
   "outputs": [],
   "source": [
    "swSelMgr = Part.SelectionManager\n",
    "swSelData = swSelMgr.CreateSelectData\n",
    "\n",
    "boolstatus = Part.Extension.SelectByID2(\"Line1@Sketch2\", \"EXTSKETCHSEGMENT\", 0, 0, 0, True, 16, pythoncom.Nothing, 0)\n",
    "\n",
    "Part.InsertAxis2(True)\n",
    "\n",
    "Part.ClearSelection2(True)\n",
    "\n",
    "LastAxis = Part.FeatureByPositionReverse(0)\n",
    "\n",
    "boolstatus = Part.Extension.SelectByID2(LastAxis.Name, \"AXIS\", -2.42522610934973E-02, 0, -4.87682501897439E-02, True, 16, pythoncom.Nothing, 0)\n",
    "\n",
    "\n",
    "boolstatus = Part.Extension.SelectByID2(\"Sketch1\", \"SKETCH\", 0, 0, 0, True, 0, pythoncom.Nothing, 0)\n",
    "\n",
    "\n",
    "myFeature = Part.FeatureManager.FeatureRevolve2(True, True, False, False, False, False, 0, 0, 6.2831853071796, 0, False, False, 0.01, 0.01, 0, 0, 0, True, True, True)"
   ]
  },
  {
   "cell_type": "code",
   "execution_count": null,
   "metadata": {},
   "outputs": [],
   "source": [
    "SelMgr = Part.SelectionManager\n",
    "\n",
    "boolstatus = Part.Extension.SelectByID2(\"Revolve7\", \"BODYFEATURE\", 0, 0, 0, False, 0, pythoncom.Nothing, 0)\n",
    "\n",
    "CurFeature = SelMgr.GetSelectedObject5(1)\n",
    "\n",
    "FeatData = CurFeature.GetDefinition\n",
    "\n",
    "isGood = FeatData.AccessSelections(Part, pythoncom.Nothing)\n",
    "\n",
    "RevolutionAngle = FeatData.GetRevolutionAngle(True)\n",
    "print(RevolutionAngle*180/(math.pi))\n",
    "\n",
    "FeatData.SetRevolutionAngle(True, RevolutionAngle / 2)\n",
    "\n",
    "isGood = CurFeature.ModifyDefinition(FeatData, Part, pythoncom.Nothing)\n",
    "\n",
    "FeatData.ReleaseSelectionAccess()\n",
    "\n",
    "boolstatus = Part.EditRebuild3\n"
   ]
  }
 ],
 "metadata": {
  "kernelspec": {
   "display_name": "Python 3",
   "language": "python",
   "name": "python3"
  },
  "language_info": {
   "codemirror_mode": {
    "name": "ipython",
    "version": 3
   },
   "file_extension": ".py",
   "mimetype": "text/x-python",
   "name": "python",
   "nbconvert_exporter": "python",
   "pygments_lexer": "ipython3",
   "version": "3.8.9"
  }
 },
 "nbformat": 4,
 "nbformat_minor": 2
}
