{
 "cells": [
  {
   "cell_type": "code",
   "execution_count": 1,
   "metadata": {},
   "outputs": [],
   "source": [
    "import win32com.client\n",
    "import pythoncom"
   ]
  },
  {
   "cell_type": "code",
   "execution_count": 2,
   "metadata": {},
   "outputs": [],
   "source": [
    "swApp = win32com.client.Dispatch(\"SLDWORKS.Application\")\n",
    "Part = swApp.ActiveDoc"
   ]
  },
  {
   "cell_type": "code",
   "execution_count": 4,
   "metadata": {},
   "outputs": [],
   "source": [
    "myDisplayDim = Part.AddDimension2(-5.06125921178338E-03, 3.86752618882494E-02, 0)"
   ]
  },
  {
   "cell_type": "code",
   "execution_count": 5,
   "metadata": {},
   "outputs": [],
   "source": [
    "swApp.SetUserPreferenceToggle(10, False)"
   ]
  },
  {
   "cell_type": "code",
   "execution_count": 6,
   "metadata": {},
   "outputs": [],
   "source": [
    "swApp.SetUserPreferenceToggle(10, False)\n",
    "myDisplayDim = Part.AddDimension2(-5.06125921178338E-03, 3.86752618882494E-02, 0)\n",
    "swApp.SetUserPreferenceToggle(10, True)"
   ]
  },
  {
   "cell_type": "code",
   "execution_count": 7,
   "metadata": {},
   "outputs": [],
   "source": [
    "boolstatus = Part.Extension.SelectByID2(\"Arc1\", \"SKETCHSEGMENT\", 6.65911664987023E-03, 7.00105808179618E-02, 0, False, 0, pythoncom.Nothing, 0)\n",
    "swApp.SetUserPreferenceToggle(10, False)\n",
    "myDisplayDim = Part.AddDimension2(0.05, 0.08, 0)\n",
    "swApp.SetUserPreferenceToggle(10, True)"
   ]
  },
  {
   "cell_type": "code",
   "execution_count": 8,
   "metadata": {},
   "outputs": [],
   "source": [
    "boolstatus = Part.Extension.SelectByID2(\"Point9\", \"SKETCHPOINT\", -0.139289629498808, 5.03307571955807E-02, 0, False, 0, pythoncom.Nothing, 0)\n",
    "boolstatus = Part.Extension.SelectByID2(\"Point8\", \"SKETCHPOINT\", 7.19840692487937E-02, 5.03307571955807E-02, 0, True, 0, pythoncom.Nothing, 0)\n",
    "swApp.SetUserPreferenceToggle(10, False)\n",
    "myDisplayDim = Part.AddDimension2(-2.95316128777315E-02, -0.050919966057835, 0)\n",
    "swApp.SetUserPreferenceToggle(10, True)"
   ]
  },
  {
   "cell_type": "code",
   "execution_count": 9,
   "metadata": {},
   "outputs": [],
   "source": [
    "myDisplayDim = Part.AddHorizontalDimension2(-3.14333820200596E-03, 0.179630223214293, 0)"
   ]
  },
  {
   "cell_type": "code",
   "execution_count": 10,
   "metadata": {},
   "outputs": [
    {
     "data": {
      "text/plain": [
       "'D1@Sketch1'"
      ]
     },
     "execution_count": 10,
     "metadata": {},
     "output_type": "execute_result"
    }
   ],
   "source": [
    "myDisplayDim.GetNameForSelection"
   ]
  },
  {
   "cell_type": "code",
   "execution_count": 11,
   "metadata": {},
   "outputs": [],
   "source": [
    "MyDeimension = Part.Parameter(\"D1@Sketch1\")"
   ]
  },
  {
   "cell_type": "code",
   "execution_count": 13,
   "metadata": {},
   "outputs": [],
   "source": [
    "MyDeimension.SystemValue = 0.1"
   ]
  }
 ],
 "metadata": {
  "kernelspec": {
   "display_name": "Python 3",
   "language": "python",
   "name": "python3"
  },
  "language_info": {
   "codemirror_mode": {
    "name": "ipython",
    "version": 3
   },
   "file_extension": ".py",
   "mimetype": "text/x-python",
   "name": "python",
   "nbconvert_exporter": "python",
   "pygments_lexer": "ipython3",
   "version": "3.8.9"
  }
 },
 "nbformat": 4,
 "nbformat_minor": 2
}
