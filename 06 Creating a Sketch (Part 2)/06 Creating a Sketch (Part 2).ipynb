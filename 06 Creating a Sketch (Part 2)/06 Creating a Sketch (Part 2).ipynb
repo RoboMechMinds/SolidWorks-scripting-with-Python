{
 "cells": [
  {
   "cell_type": "code",
   "execution_count": 1,
   "metadata": {},
   "outputs": [],
   "source": [
    "import win32com.client\n",
    "import pythoncom"
   ]
  },
  {
   "cell_type": "code",
   "execution_count": 2,
   "metadata": {},
   "outputs": [],
   "source": [
    "swApp = win32com.client.Dispatch(\"SLDWORKS.Application\")\n",
    "Part = swApp.ActiveDoc"
   ]
  },
  {
   "cell_type": "code",
   "execution_count": 3,
   "metadata": {},
   "outputs": [],
   "source": [
    "# Creating a Centerpoint Straight Slot\n",
    "mySketchSlot = Part.SketchManager.CreateSketchSlot(1, 0, 0.09, 0, 0, 0, 0.2, 0, 0, 0, 0, 0, 1, False)"
   ]
  },
  {
   "cell_type": "code",
   "execution_count": 9,
   "metadata": {},
   "outputs": [],
   "source": [
    "# Creating a 3 Point Arc Slot\t\n",
    "mySketchSlot = Part.SketchManager.CreateSketchSlot(3, 0, 0.09, 0, 0, 0, 0.5, 0, 0, 0.2, 0.3, 0, 1, False)"
   ]
  },
  {
   "cell_type": "code",
   "execution_count": 11,
   "metadata": {},
   "outputs": [],
   "source": [
    "# Creating offset entities\n",
    "boolstatus = Part.SketchManager.SketchOffset2(-0.02, False, True, 0, 0, True)"
   ]
  },
  {
   "cell_type": "code",
   "execution_count": 16,
   "metadata": {},
   "outputs": [],
   "source": [
    "# Creating mirror entities\n",
    "boolstatus = Part.Extension.SelectByID2(\"Sketch1\", \"SKETCHCONTOUR\", 0.125942975398774, 0.483472154858981, 0, False, 0, pythoncom.Nothing, 0)\n",
    "boolstatus = Part.Extension.SelectByID2(\"Line11\", \"SKETCHSEGMENT\", 0.37509895384944, 0.485441767336852, 0, True, 0, pythoncom.Nothing, 0)\n",
    "Part.SketchMirror()\n"
   ]
  },
  {
   "cell_type": "code",
   "execution_count": 17,
   "metadata": {},
   "outputs": [],
   "source": [
    "# Creating a linear sketch pattern\n",
    "boolstatus = Part.SketchManager.CreateLinearSketchStepAndRepeat(10, 4, 0.1, 0.2, 0, 1.5707963267949, \"\", False, False, False, True, False)"
   ]
  },
  {
   "cell_type": "code",
   "execution_count": 18,
   "metadata": {},
   "outputs": [],
   "source": [
    "# Creating a circular sketch pattern\n",
    "value = Part.SketchManager.CreateCircularSketchStepAndRepeat(0.5, 1, 3, 1, True, \"\", True, True, True)"
   ]
  }
 ],
 "metadata": {
  "kernelspec": {
   "display_name": "Python 3",
   "language": "python",
   "name": "python3"
  },
  "language_info": {
   "codemirror_mode": {
    "name": "ipython",
    "version": 3
   },
   "file_extension": ".py",
   "mimetype": "text/x-python",
   "name": "python",
   "nbconvert_exporter": "python",
   "pygments_lexer": "ipython3",
   "version": "3.8.9"
  }
 },
 "nbformat": 4,
 "nbformat_minor": 2
}
