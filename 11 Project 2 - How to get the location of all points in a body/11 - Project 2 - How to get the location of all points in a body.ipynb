{
 "cells": [
  {
   "cell_type": "code",
   "execution_count": 1,
   "metadata": {},
   "outputs": [],
   "source": [
    "import win32com.client\n",
    "import pythoncom"
   ]
  },
  {
   "cell_type": "code",
   "execution_count": 2,
   "metadata": {},
   "outputs": [],
   "source": [
    "swApp = win32com.client.Dispatch(\"SLDWORKS.Application\")\n",
    "Part = swApp.ActiveDoc"
   ]
  },
  {
   "cell_type": "code",
   "execution_count": 6,
   "metadata": {},
   "outputs": [],
   "source": [
    "swSelMgr = Part.SelectionManager\n",
    "swSelData = swSelMgr.CreateSelectData\n",
    "\n",
    "Bodies = Part.GetBodies2(-1, True)\n",
    "Body = Bodies[0]\n",
    "Faces = Body.GetFaces()\n",
    "\n",
    "SharePointsLocation = []\n",
    "\n",
    "for i in range(len(Faces)):\n",
    "\n",
    "    Faces[i].Select4(False, swSelData)\n",
    "\n",
    "    Part.SketchManager.Insert3DSketch(True)\n",
    "    Part.SketchManager.SketchUseEdge3(False, False)\n",
    "\n",
    "    LastSurface = Part.FeatureByPositionReverse(0)\n",
    "    LastSurface.Select4(False, swSelData)\n",
    "\n",
    "    swFeat = swSelMgr.GetSelectedObject6(1, 0)\n",
    "    swSketch = swFeat.GetSpecificFeature2\n",
    "    vSketchSeg = swSketch.GetSketchPoints2\n",
    "\n",
    "    for j in range(len(vSketchSeg)):\n",
    "\n",
    "        swSketchSeg = vSketchSeg[j]\n",
    "\n",
    "        SharePointsLocation.append([swSketchSeg.X, swSketchSeg.Y, swSketchSeg.Z])\n",
    "\n",
    "\n",
    "    Part.ClearSelection2(True)\n",
    "    Part.SketchManager.InsertSketch(True)\n",
    "\n",
    "    Part.ClearSelection2(True)\n"
   ]
  },
  {
   "cell_type": "code",
   "execution_count": 9,
   "metadata": {},
   "outputs": [],
   "source": [
    "PointsLocation = []\n",
    "\n",
    "for i in range(len(SharePointsLocation)):\n",
    "\n",
    "    k = 0\n",
    "    \n",
    "    for j in range(len(PointsLocation)):\n",
    "\n",
    "        if SharePointsLocation[i] == PointsLocation[j]:\n",
    "            break\n",
    "        else:\n",
    "            k = k + 1\n",
    "\n",
    "    if k == len(PointsLocation):\n",
    "        \n",
    "        PointsLocation.append(SharePointsLocation[i])\n"
   ]
  },
  {
   "cell_type": "code",
   "execution_count": null,
   "metadata": {},
   "outputs": [],
   "source": []
  }
 ],
 "metadata": {
  "kernelspec": {
   "display_name": "Python 3",
   "language": "python",
   "name": "python3"
  },
  "language_info": {
   "codemirror_mode": {
    "name": "ipython",
    "version": 3
   },
   "file_extension": ".py",
   "mimetype": "text/x-python",
   "name": "python",
   "nbconvert_exporter": "python",
   "pygments_lexer": "ipython3",
   "version": "3.8.9"
  }
 },
 "nbformat": 4,
 "nbformat_minor": 2
}
