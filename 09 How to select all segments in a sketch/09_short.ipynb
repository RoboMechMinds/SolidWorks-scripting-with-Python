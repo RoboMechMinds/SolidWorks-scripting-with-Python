{
 "cells": [
  {
   "cell_type": "code",
   "execution_count": 1,
   "metadata": {},
   "outputs": [],
   "source": [
    "import win32com.client\n",
    "import pythoncom"
   ]
  },
  {
   "cell_type": "code",
   "execution_count": 2,
   "metadata": {},
   "outputs": [],
   "source": [
    "swApp = win32com.client.Dispatch(\"SLDWORKS.Application\")\n",
    "Part = swApp.ActiveDoc"
   ]
  },
  {
   "cell_type": "code",
   "execution_count": 7,
   "metadata": {},
   "outputs": [],
   "source": [
    "swSelMgr =Part.SelectionManager\n",
    "swSelData = swSelMgr.CreateSelectData\n",
    "\n",
    "boolstatus = Part.Extension.SelectByID2\\\n",
    "    (\"Sketch1\", \"SKETCH\", 0, 0, 0, False, 0, pythoncom.Nothing, 0)\n",
    "\n",
    "swFeat = swSelMgr.GetSelectedObject6(1, 0)\n",
    "swSketch = swFeat.GetSpecificFeature2\n",
    "vSketchSeg = swSketch.GetSketchSegments\n",
    "\n",
    "for i in range(len(vSketchSeg)):\n",
    "    swSketchSeg = vSketchSeg[i]\n",
    "    bRet = swSketchSeg.Select4(True, swSelData)"
   ]
  }
 ],
 "metadata": {
  "kernelspec": {
   "display_name": "Python 3",
   "language": "python",
   "name": "python3"
  },
  "language_info": {
   "codemirror_mode": {
    "name": "ipython",
    "version": 3
   },
   "file_extension": ".py",
   "mimetype": "text/x-python",
   "name": "python",
   "nbconvert_exporter": "python",
   "pygments_lexer": "ipython3",
   "version": "3.8.9"
  }
 },
 "nbformat": 4,
 "nbformat_minor": 2
}
