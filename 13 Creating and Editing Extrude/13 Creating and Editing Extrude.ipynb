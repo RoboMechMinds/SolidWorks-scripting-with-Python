{
 "cells": [
  {
   "cell_type": "code",
   "execution_count": 1,
   "metadata": {},
   "outputs": [],
   "source": [
    "import win32com.client\n",
    "import pythoncom"
   ]
  },
  {
   "cell_type": "code",
   "execution_count": 2,
   "metadata": {},
   "outputs": [],
   "source": [
    "swApp = win32com.client.Dispatch(\"SLDWORKS.Application\")\n",
    "Part = swApp.ActiveDoc"
   ]
  },
  {
   "cell_type": "code",
   "execution_count": 3,
   "metadata": {},
   "outputs": [],
   "source": [
    "boolstatus = Part.Extension.SelectByID2(\"Sketch1\", \"SKETCH\", 0, 0, 0, False, 0, pythoncom.Nothing, 0)\n",
    "\n",
    "myFeature = Part.FeatureManager.FeatureExtrusion2(True, False, False, 0, 0, 50/1000, 0.01, False, False, False, False, 1.74532925199433E-02, 1.74532925199433E-02, False, False, False, False, True, True, True, 0, 0, False)\n"
   ]
  },
  {
   "cell_type": "code",
   "execution_count": 6,
   "metadata": {},
   "outputs": [],
   "source": [
    "MyDeimension = Part.Parameter(\"D1@Sketch1\")\n",
    "MyDeimension.SystemValue = 80/1000\n",
    "boolstatus = Part.EditRebuild3"
   ]
  },
  {
   "cell_type": "code",
   "execution_count": 7,
   "metadata": {},
   "outputs": [],
   "source": [
    "MyDeimension = Part.Parameter(\"D2@Sketch1\")\n",
    "MyDeimension.SystemValue = 150/1000\n",
    "boolstatus = Part.EditRebuild3"
   ]
  },
  {
   "cell_type": "code",
   "execution_count": 7,
   "metadata": {},
   "outputs": [],
   "source": [
    "SelMgr = Part.SelectionManager\n",
    "\n",
    "boolstatus = Part.Extension.SelectByID2(\"Boss-Extrude2\", \"BODYFEATURE\", 0, 0, 0, False, 0, pythoncom.Nothing, 0)\n",
    "\n",
    "CurFeature = SelMgr.GetSelectedObject5(1)\n",
    "\n",
    "FeatData = CurFeature.GetDefinition\n",
    "\n",
    "isGood = FeatData.AccessSelections(Part, pythoncom.Nothing)\n",
    "\n",
    "Depth = FeatData.GetDepth(True)\n",
    "\n",
    "FeatData.SetDepth(True, Depth * 2)\n",
    "\n",
    "isGood = CurFeature.ModifyDefinition(FeatData, Part, pythoncom.Nothing)\n",
    "\n",
    "FeatData.ReleaseSelectionAccess()\n",
    "\n",
    "boolstatus = Part.EditRebuild3\n"
   ]
  }
 ],
 "metadata": {
  "kernelspec": {
   "display_name": "Python 3",
   "language": "python",
   "name": "python3"
  },
  "language_info": {
   "codemirror_mode": {
    "name": "ipython",
    "version": 3
   },
   "file_extension": ".py",
   "mimetype": "text/x-python",
   "name": "python",
   "nbconvert_exporter": "python",
   "pygments_lexer": "ipython3",
   "version": "3.8.9"
  }
 },
 "nbformat": 4,
 "nbformat_minor": 2
}
