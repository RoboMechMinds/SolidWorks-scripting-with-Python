{
 "cells": [
  {
   "cell_type": "code",
   "execution_count": 3,
   "metadata": {},
   "outputs": [],
   "source": [
    "import win32com.client\n",
    "import pythoncom"
   ]
  },
  {
   "cell_type": "code",
   "execution_count": 4,
   "metadata": {},
   "outputs": [],
   "source": [
    "swApp = win32com.client.Dispatch(\"SLDWORKS.Application\")\n",
    "Part = swApp.ActiveDoc"
   ]
  },
  {
   "cell_type": "code",
   "execution_count": 15,
   "metadata": {},
   "outputs": [],
   "source": [
    "swSelMgr = Part.SelectionManager\n",
    "swSelData = swSelMgr.CreateSelectData\n",
    "\n",
    "boolstatus = Part.Extension.SelectByID2\\\n",
    "    (\"Sketch1\", \"SKETCH\", 0, 0, 0, False, 0, pythoncom.Nothing, 0)\n",
    "\n",
    "swFeat = swSelMgr.GetSelectedObject6(1, 0)\n",
    "swSketch = swFeat.GetSpecificFeature2\n",
    "vPoints = swSketch.GetSketchPoints2\n",
    "\n",
    "Part.ClearSelection2(True)\n",
    "\n",
    "for i in range(len(vPoints)):\n",
    "    \n",
    "    point = vPoints[i]\n",
    "    boolstatus = point.Select4(True, swSelData)\n",
    "\n"
   ]
  },
  {
   "cell_type": "code",
   "execution_count": 13,
   "metadata": {},
   "outputs": [
    {
     "name": "stdout",
     "output_type": "stream",
     "text": [
      "-42.88153477218229\n",
      "49.8428228845495\n",
      "0.0\n"
     ]
    }
   ],
   "source": [
    "point = vPoints[0]\n",
    "\n",
    "print(point.X*1000)\n",
    "print(point.Y*1000)\n",
    "print(point.Z*1000)"
   ]
  },
  {
   "cell_type": "code",
   "execution_count": 14,
   "metadata": {},
   "outputs": [],
   "source": [
    "point = vPoints[0]\n",
    "\n",
    "boolstatus = point.Select4(False, swSelData)"
   ]
  },
  {
   "cell_type": "code",
   "execution_count": 7,
   "metadata": {},
   "outputs": [
    {
     "data": {
      "text/plain": [
       "10"
      ]
     },
     "execution_count": 7,
     "metadata": {},
     "output_type": "execute_result"
    }
   ],
   "source": [
    "len(vPoints)"
   ]
  }
 ],
 "metadata": {
  "kernelspec": {
   "display_name": "Python 3",
   "language": "python",
   "name": "python3"
  },
  "language_info": {
   "codemirror_mode": {
    "name": "ipython",
    "version": 3
   },
   "file_extension": ".py",
   "mimetype": "text/x-python",
   "name": "python",
   "nbconvert_exporter": "python",
   "pygments_lexer": "ipython3",
   "version": "3.8.9"
  }
 },
 "nbformat": 4,
 "nbformat_minor": 2
}
