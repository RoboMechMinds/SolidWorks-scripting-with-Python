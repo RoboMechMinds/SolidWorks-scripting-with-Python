{
 "cells": [
  {
   "cell_type": "code",
   "execution_count": 4,
   "metadata": {},
   "outputs": [],
   "source": [
    "import win32com.client\n",
    "import pythoncom"
   ]
  },
  {
   "cell_type": "code",
   "execution_count": 5,
   "metadata": {},
   "outputs": [],
   "source": [
    "swApp = win32com.client.Dispatch(\"SLDWORKS.Application\")\n",
    "Part = swApp.ActiveDoc"
   ]
  },
  {
   "cell_type": "code",
   "execution_count": 6,
   "metadata": {},
   "outputs": [],
   "source": [
    "Part = swApp.NewDocument(r\"C:\\ProgramData\\SolidWorks\\SOLIDWORKS 2021\\templates\\Drawing.drwdot\", 0, 0, 0)\n",
    "\n",
    "swDrawing = Part\n",
    "swSheet = swDrawing.GetCurrentSheet\n",
    "\n",
    "swSheet.SetProperties2(0, 0, 1, 1, False, 0, 0, True)\n",
    "swSheet.SetTemplateName(r\"C:\\ProgramData\\SolidWorks\\SOLIDWORKS 2021\\lang\\english\\sheetformat\\a4 - landscape.slddrt\")\n",
    "swSheet.ReloadTemplate(True)\n",
    "\n",
    "boolstatus = Part.GenerateViewPaletteViews(r\"C:\\Users\\moham\\OneDrive\\Desktop\\Part1.SLDPRT\")\n",
    "\n",
    "myView = swDrawing.CreateDrawViewFromModelView3(r\"C:\\Users\\moham\\OneDrive\\Desktop\\Part1.SLDPRT\", \"*Front\", 70/1000, 160/1000, 0)\n",
    "myView = swDrawing.CreateDrawViewFromModelView3(r\"C:\\Users\\moham\\OneDrive\\Desktop\\Part1.SLDPRT\", \"*Left\", 150/1000, 160/1000, 0)\n",
    "myView = swDrawing.CreateDrawViewFromModelView3(r\"C:\\Users\\moham\\OneDrive\\Desktop\\Part1.SLDPRT\", \"*Top\", 70/1000, 100/1000, 0)"
   ]
  },
  {
   "cell_type": "code",
   "execution_count": 8,
   "metadata": {},
   "outputs": [],
   "source": [
    "boolstatus = Part.Extension.SelectByID2(\"Drawing View13\", \"DRAWINGVIEW\", 0, 0, 0, False, 0, pythoncom.Nothing, 0)\n",
    "\n",
    "swDrawing.ViewDisplayHiddengreyed()"
   ]
  },
  {
   "cell_type": "code",
   "execution_count": 9,
   "metadata": {},
   "outputs": [],
   "source": [
    "boolstatus = Part.Extension.SelectByID2(\"Drawing View13\", \"DRAWINGVIEW\", 0, 0, 0, False, 0, pythoncom.Nothing, 0)\n",
    "\n",
    "swDrawing.ViewDisplayHidden()"
   ]
  },
  {
   "cell_type": "code",
   "execution_count": 10,
   "metadata": {},
   "outputs": [],
   "source": [
    "Part = swApp.NewDocument(r\"C:\\ProgramData\\SolidWorks\\SOLIDWORKS 2021\\templates\\Drawing.drwdot\", 0, 0, 0)\n",
    "\n",
    "swDrawing = Part\n",
    "swSheet = swDrawing.GetCurrentSheet\n",
    "\n",
    "swSheet.SetProperties2(0, 0, 1, 1, False, 0, 0, True)\n",
    "swSheet.SetTemplateName(r\"C:\\ProgramData\\SolidWorks\\SOLIDWORKS 2021\\lang\\english\\sheetformat\\a4 - landscape.slddrt\")\n",
    "swSheet.ReloadTemplate(True)\n",
    "\n",
    "boolstatus = Part.GenerateViewPaletteViews(r\"C:\\Users\\moham\\OneDrive\\Desktop\\Assem1.SLDASM\")\n",
    "\n",
    "\n",
    "myView = swDrawing.CreateDrawViewFromModelView3(r\"C:\\Users\\moham\\OneDrive\\Desktop\\Assem1.SLDASM\", \"*Front\", 70/1000, 160/1000, 0)\n",
    "myView = swDrawing.CreateDrawViewFromModelView3(r\"C:\\Users\\moham\\OneDrive\\Desktop\\Assem1.SLDASM\", \"*Left\", 150/1000, 160/1000, 0)\n",
    "myView = swDrawing.CreateDrawViewFromModelView3(r\"C:\\Users\\moham\\OneDrive\\Desktop\\Assem1.SLDASM\", \"*Top\", 70/1000, 100/1000, 0)"
   ]
  },
  {
   "cell_type": "code",
   "execution_count": 14,
   "metadata": {},
   "outputs": [],
   "source": [
    "boolstatus = Part.Extension.SelectByRay(0.160076042704626, 0.167902587174647, -1999.95, 0, 0, -1, 8.88186476868327E-04, 1, False, 0, 0)\n",
    "\n",
    "BomBalloonParams = Part.Extension.CreateBalloonOptions\n",
    "\n",
    "myNote = Part.Extension.InsertBomBalloon2(BomBalloonParams)\n",
    "\n",
    "Part.ClearSelection2(True)"
   ]
  },
  {
   "cell_type": "code",
   "execution_count": 15,
   "metadata": {},
   "outputs": [],
   "source": [
    "boolstatus = Part.Extension.SelectByID2(\"Drawing View11\", \"DRAWINGVIEW\", 0, 0, 0, False, 0, pythoncom.Nothing, 0)\n",
    "\n",
    "autoballoonParams = Part.CreateAutoBalloonOptions\n",
    "\n",
    "vNotes = Part.AutoBalloon5(autoballoonParams)"
   ]
  },
  {
   "cell_type": "code",
   "execution_count": 16,
   "metadata": {},
   "outputs": [
    {
     "data": {
      "text/plain": [
       "True"
      ]
     },
     "execution_count": 16,
     "metadata": {},
     "output_type": "execute_result"
    }
   ],
   "source": [
    "boolstatus = Part.ActivateView(\"Drawing View11\")\n",
    "swActiveView = Part.ActiveDrawingView\n",
    "\n",
    "swBOMTable = swActiveView.InsertBomTable4(False, 9.79029893238434E-02, 8.45697971530249E-02, 1, 1, \"\", r\"C:\\Program Files\\SOLIDWORKS Corp\\SOLIDWORKS\\lang\\english\\bom-standard.sldbomtbt\", False, 0, False)\n",
    "\n",
    "Part.EditRebuild3"
   ]
  },
  {
   "cell_type": "code",
   "execution_count": 20,
   "metadata": {},
   "outputs": [],
   "source": [
    "Part = swApp.NewDocument(r\"C:\\ProgramData\\SolidWorks\\SOLIDWORKS 2021\\templates\\Drawing.drwdot\", 0, 0, 0)\n",
    "\n",
    "swDrawing = Part\n",
    "swSheet = swDrawing.GetCurrentSheet\n",
    "\n",
    "swSheet.SetProperties2(0, 0, 1, 1, False, 0, 0, True)\n",
    "swSheet.SetTemplateName(r\"C:\\ProgramData\\SolidWorks\\SOLIDWORKS 2021\\lang\\english\\sheetformat\\a4 - landscape.slddrt\")\n",
    "swSheet.ReloadTemplate(True)\n",
    "\n",
    "boolstatus = Part.GenerateViewPaletteViews(r\"C:\\Users\\moham\\OneDrive\\Desktop\\Part3.SLDPRT\")\n",
    "\n",
    "\n",
    "myView = swDrawing.CreateDrawViewFromModelView3(r\"C:\\Users\\moham\\OneDrive\\Desktop\\Part3.SLDPRT\", \"*Front\", 70/1000, 140/1000, 0)\n",
    "myView = swDrawing.CreateDrawViewFromModelView3(r\"C:\\Users\\moham\\OneDrive\\Desktop\\Part3.SLDPRT\", \"*Left\", 150/1000, 140/1000, 0)\n",
    "myView = swDrawing.CreateDrawViewFromModelView3(r\"C:\\Users\\moham\\OneDrive\\Desktop\\Part3.SLDPRT\", \"*Top\", 70/1000, 80/1000, 0)"
   ]
  },
  {
   "cell_type": "code",
   "execution_count": 21,
   "metadata": {},
   "outputs": [],
   "source": [
    "boolstatus = Part.ActivateView(\"Drawing View11\")\n",
    "swActiveView = Part.ActiveDrawingView\n",
    "\n",
    "boolstatus = swActiveView.AutoInsertCenterMarks(1, 11, True, True, True, 0.00254, True, False, 0)\n",
    "\n",
    "Part.ClearSelection2(True)\n"
   ]
  },
  {
   "cell_type": "code",
   "execution_count": 23,
   "metadata": {},
   "outputs": [],
   "source": [
    "boolstatus = Part.Extension.SelectByID2(\"Drawing View13\", \"DRAWINGVIEW\", 0, 0, 0, False, 0, pythoncom.Nothing, 0)\n",
    "\n",
    "myCenterLine = Part.InsertCenterLine2"
   ]
  },
  {
   "cell_type": "code",
   "execution_count": 28,
   "metadata": {},
   "outputs": [],
   "source": [
    "boolstatus = Part.ActivateView(\"Drawing View11\")\n",
    "swActiveView = Part.ActiveDrawingView\n",
    "\n",
    "swActiveView.ScaleDecimal = 0.5\n"
   ]
  },
  {
   "cell_type": "code",
   "execution_count": 29,
   "metadata": {},
   "outputs": [],
   "source": [
    "longstatus = Part.SaveAs3(r\"C:\\Users\\moham\\OneDrive\\Desktop\\Part3.pdf\", 0, 2)"
   ]
  }
 ],
 "metadata": {
  "kernelspec": {
   "display_name": "Python 3",
   "language": "python",
   "name": "python3"
  },
  "language_info": {
   "codemirror_mode": {
    "name": "ipython",
    "version": 3
   },
   "file_extension": ".py",
   "mimetype": "text/x-python",
   "name": "python",
   "nbconvert_exporter": "python",
   "pygments_lexer": "ipython3",
   "version": "3.8.9"
  }
 },
 "nbformat": 4,
 "nbformat_minor": 2
}
