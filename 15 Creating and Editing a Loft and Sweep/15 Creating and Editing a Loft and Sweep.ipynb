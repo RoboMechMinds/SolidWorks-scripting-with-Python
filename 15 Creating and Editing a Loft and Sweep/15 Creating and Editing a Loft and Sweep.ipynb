{
 "cells": [
  {
   "cell_type": "code",
   "execution_count": 1,
   "metadata": {},
   "outputs": [],
   "source": [
    "import win32com.client\n",
    "import pythoncom"
   ]
  },
  {
   "cell_type": "code",
   "execution_count": 2,
   "metadata": {},
   "outputs": [],
   "source": [
    "swApp = win32com.client.Dispatch(\"SLDWORKS.Application\")\n",
    "Part = swApp.ActiveDoc"
   ]
  },
  {
   "cell_type": "code",
   "execution_count": 3,
   "metadata": {},
   "outputs": [],
   "source": [
    "boolstatus = Part.Extension.SelectByID2(\"Sketch1\", \"SKETCH\", 0, 0, 0, False, 1, pythoncom.Nothing, 0)\n",
    "boolstatus = Part.Extension.SelectByID2(\"Sketch2\", \"SKETCH\", 0, 0, 0, True, 1, pythoncom.Nothing, 0)\n",
    "\n",
    "myFeature = Part.FeatureManager.InsertProtrusionBlend(False, True, False, 1, 0, 0, 1, 1, True, True, False, 0, 0, 0, True, True, True)\n"
   ]
  },
  {
   "cell_type": "code",
   "execution_count": 4,
   "metadata": {},
   "outputs": [],
   "source": [
    "boolstatus = Part.Extension.SelectByID2(\"Sketch1\", \"SKETCH\", 0, 0, 0, False, 1, pythoncom.Nothing, 0)\n",
    "boolstatus = Part.Extension.SelectByID2(\"Sketch2\", \"SKETCH\", 0, 0, 0, True, 1, pythoncom.Nothing, 0)\n",
    "\n",
    "boolstatus = Part.Extension.SelectByID2(\"Sketch3\", \"SKETCH\", 0, 0, 0, True, 2, pythoncom.Nothing, 0)\n",
    "\n",
    "myFeature = Part.FeatureManager.InsertProtrusionBlend(False, True, False, 1, 0, 0, 1, 1, True, True, False, 0, 0, 0, True, True, True)\n"
   ]
  },
  {
   "cell_type": "code",
   "execution_count": 5,
   "metadata": {},
   "outputs": [],
   "source": [
    "boolstatus = Part.Extension.SelectByID2(\"Sketch4\", \"SKETCH\", 0, 0, 0, False, 4, pythoncom.Nothing, 0)\n",
    "\n",
    "\n",
    "swFeatMgr = Part.FeatureManager\n",
    "swFeatData = swFeatMgr.CreateDefinition(17)\n",
    "\n",
    "\n",
    "swFeatData.CircularProfile = True\n",
    "swFeatData.CircularProfileDiameter = 12/1000\n",
    "\n",
    "swFeat = swFeatMgr.CreateFeature(swFeatData)"
   ]
  },
  {
   "cell_type": "code",
   "execution_count": 6,
   "metadata": {},
   "outputs": [],
   "source": [
    "SelMgr = Part.SelectionManager\n",
    "\n",
    "boolstatus = Part.Extension.SelectByID2(\"Sweep3\", \"BODYFEATURE\", 0, 0, 0, False, 0, pythoncom.Nothing, 0)\n",
    "\n",
    "CurFeature = SelMgr.GetSelectedObject5(1)\n",
    "\n",
    "FeatData = CurFeature.GetDefinition\n",
    "\n",
    "isGood = FeatData.AccessSelections(Part, pythoncom.Nothing)\n",
    "\n",
    "Diameter = FeatData.CircularProfileDiameter\n",
    "\n",
    "FeatData.CircularProfileDiameter = Diameter + 5/1000\n",
    "\n",
    "isGood = CurFeature.ModifyDefinition(FeatData, Part, pythoncom.Nothing)\n",
    "\n",
    "FeatData.ReleaseSelectionAccess()\n",
    "\n",
    "boolstatus = Part.EditRebuild3"
   ]
  },
  {
   "cell_type": "code",
   "execution_count": 7,
   "metadata": {},
   "outputs": [],
   "source": [
    "boolstatus = Part.Extension.SelectByID2(\"Sketch4\", \"SKETCH\", 0, 0, 0, False, 4, pythoncom.Nothing, 0)\n",
    "boolstatus = Part.Extension.SelectByID2(\"Sketch32\", \"SKETCH\", 0, 0, 0, True, 1, pythoncom.Nothing, 0)\n",
    "\n",
    "\n",
    "swFeatMgr = Part.FeatureManager\n",
    "swFeatData = swFeatMgr.CreateDefinition(17)\n",
    "\n",
    "swFeat = swFeatMgr.CreateFeature(swFeatData)\n"
   ]
  }
 ],
 "metadata": {
  "kernelspec": {
   "display_name": "Python 3",
   "language": "python",
   "name": "python3"
  },
  "language_info": {
   "codemirror_mode": {
    "name": "ipython",
    "version": 3
   },
   "file_extension": ".py",
   "mimetype": "text/x-python",
   "name": "python",
   "nbconvert_exporter": "python",
   "pygments_lexer": "ipython3",
   "version": "3.8.9"
  }
 },
 "nbformat": 4,
 "nbformat_minor": 2
}
