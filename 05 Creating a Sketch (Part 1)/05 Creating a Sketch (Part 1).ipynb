{
 "cells": [
  {
   "cell_type": "code",
   "execution_count": 2,
   "metadata": {},
   "outputs": [],
   "source": [
    "import win32com.client\n",
    "import pythoncom"
   ]
  },
  {
   "cell_type": "code",
   "execution_count": 3,
   "metadata": {},
   "outputs": [],
   "source": [
    "swApp = win32com.client.Dispatch(\"SLDWORKS.Application\")\n",
    "Part = swApp.ActiveDoc"
   ]
  },
  {
   "cell_type": "code",
   "execution_count": 4,
   "metadata": {},
   "outputs": [],
   "source": [
    "# Selecting a specific plane\n",
    "boolstatus = Part.Extension.SelectByID2(\"Plane1\", \"PLANE\", 0, 0, 0, False, 0, pythoncom.Nothing, 0)"
   ]
  },
  {
   "cell_type": "code",
   "execution_count": 5,
   "metadata": {},
   "outputs": [],
   "source": [
    "# Creating a sktch\n",
    "Part.SketchManager.InsertSketch(True)"
   ]
  },
  {
   "cell_type": "code",
   "execution_count": 6,
   "metadata": {},
   "outputs": [
    {
     "data": {
      "text/plain": [
       "<COMObject <unknown>>"
      ]
     },
     "execution_count": 6,
     "metadata": {},
     "output_type": "execute_result"
    }
   ],
   "source": [
    "# Creating a point\n",
    "Part.SketchManager.CreatePoint(0.02, 0.02, 0)"
   ]
  },
  {
   "cell_type": "code",
   "execution_count": 7,
   "metadata": {},
   "outputs": [],
   "source": [
    "# Creating a line\n",
    "skSegment = Part.SketchManager.CreateLine(0.01892, 0, 0, 0.074892, 0.043161, 0)"
   ]
  },
  {
   "cell_type": "code",
   "execution_count": 15,
   "metadata": {},
   "outputs": [],
   "source": [
    "# Creating a center line\n",
    "skSegment = Part.SketchManager.CreateCenterLine(0.01892, 0, 0, 0.074892, 0.043161, 0)"
   ]
  },
  {
   "cell_type": "code",
   "execution_count": 9,
   "metadata": {},
   "outputs": [
    {
     "data": {
      "text/plain": [
       "'Line3'"
      ]
     },
     "execution_count": 9,
     "metadata": {},
     "output_type": "execute_result"
    }
   ],
   "source": [
    "skSegment.GetName"
   ]
  },
  {
   "cell_type": "code",
   "execution_count": 10,
   "metadata": {},
   "outputs": [
    {
     "data": {
      "text/plain": [
       "0.0706805256417919"
      ]
     },
     "execution_count": 10,
     "metadata": {},
     "output_type": "execute_result"
    }
   ],
   "source": [
    "skSegment.GetLength"
   ]
  },
  {
   "cell_type": "code",
   "execution_count": 14,
   "metadata": {},
   "outputs": [],
   "source": [
    "boolstatus = Part.Extension.SelectByID2(\"Line3\", \"SKETCHSEGMENT\", 0, 0, 0, False, 0, pythoncom.Nothing, 0)"
   ]
  },
  {
   "cell_type": "code",
   "execution_count": 11,
   "metadata": {},
   "outputs": [],
   "source": [
    "# Deleting a sketch\n",
    "Part.EditDelete()"
   ]
  },
  {
   "cell_type": "code",
   "execution_count": 16,
   "metadata": {},
   "outputs": [
    {
     "data": {
      "text/plain": [
       "<COMObject <unknown>>"
      ]
     },
     "execution_count": 16,
     "metadata": {},
     "output_type": "execute_result"
    }
   ],
   "source": [
    "# Creating a circle\n",
    "Part.SketchManager.CreateCircleByRadius(0.02, 0.02, 0, 0.06)"
   ]
  },
  {
   "cell_type": "code",
   "execution_count": 17,
   "metadata": {},
   "outputs": [],
   "source": [
    "# Creating a circle by radius\n",
    "skSegment = Part.SketchManager.PerimeterCircle(0, 0, 0.050941, 0.03388, -0.021145, 0.074729)"
   ]
  },
  {
   "cell_type": "code",
   "execution_count": 18,
   "metadata": {},
   "outputs": [],
   "source": [
    "# Creating a rectangle\n",
    "vSkLines = Part.SketchManager.CreateCenterRectangle(0, 0, 0, 2.16257594167679E-02, 7.44887268799784E-02, 0)"
   ]
  },
  {
   "cell_type": "code",
   "execution_count": 21,
   "metadata": {},
   "outputs": [
    {
     "data": {
      "text/plain": [
       "(<COMObject CreatePolygon>,\n",
       " <COMObject CreatePolygon>,\n",
       " <COMObject CreatePolygon>,\n",
       " <COMObject CreatePolygon>,\n",
       " <COMObject CreatePolygon>,\n",
       " <COMObject CreatePolygon>,\n",
       " <COMObject CreatePolygon>,\n",
       " <COMObject CreatePolygon>,\n",
       " <COMObject CreatePolygon>,\n",
       " <COMObject CreatePolygon>,\n",
       " <COMObject CreatePolygon>)"
      ]
     },
     "execution_count": 21,
     "metadata": {},
     "output_type": "execute_result"
    }
   ],
   "source": [
    "# Creating a polygon\n",
    "Part.SketchManager.CreatePolygon(0, 0, 0, 0.02, 0.03, 0, 10, True)"
   ]
  }
 ],
 "metadata": {
  "kernelspec": {
   "display_name": "Python 3",
   "language": "python",
   "name": "python3"
  },
  "language_info": {
   "codemirror_mode": {
    "name": "ipython",
    "version": 3
   },
   "file_extension": ".py",
   "mimetype": "text/x-python",
   "name": "python",
   "nbconvert_exporter": "python",
   "pygments_lexer": "ipython3",
   "version": "3.8.9"
  }
 },
 "nbformat": 4,
 "nbformat_minor": 2
}
